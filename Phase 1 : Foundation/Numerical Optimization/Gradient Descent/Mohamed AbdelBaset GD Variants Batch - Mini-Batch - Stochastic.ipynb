{
 "cells": [
  {
   "cell_type": "markdown",
   "metadata": {},
   "source": [
    "## Practical Work 2"
   ]
  },
  {
   "cell_type": "markdown",
   "metadata": {},
   "source": [
    "For this practical work, the student will have to develop a Python program that is able to implement the gradient descent variants (Batch/Mini-Batch/Stochastic) in order to achieve the linear regression of a set of datapoints."
   ]
  },
  {
   "cell_type": "markdown",
   "metadata": {},
   "source": [
    "#### Import numpy, matplotlib.pyplot and make it inline"
   ]
  },
  {
   "cell_type": "code",
   "execution_count": 1,
   "metadata": {},
   "outputs": [],
   "source": [
    "import matplotlib.pyplot as plt\n",
    "import numpy as np\n",
    "from numpy.linalg import norm"
   ]
  },
  {
   "cell_type": "markdown",
   "metadata": {},
   "source": [
    "To have a dataset or set of data points, the student must generate a pair of arrays <b>X</b> and <b>y</b> with the values in <b>X</b> equally distributed between <b>0</b> and <b>20</b> and the values in <b>y</b> such that: \n",
    "<b>yi = a*xi + b (and a = -2, b = 1)</b>\n"
   ]
  },
  {
   "cell_type": "code",
   "execution_count": 2,
   "metadata": {},
   "outputs": [],
   "source": [
    "# Input data\n",
    "x_points = np.arange(20)\n",
    "#x_points = np.linspace(0,10,20)"
   ]
  },
  {
   "cell_type": "code",
   "execution_count": 3,
   "metadata": {},
   "outputs": [],
   "source": [
    "# Actual output\n",
    "y_points = -2 * x_points + 1\n",
    "#y_points = 2 * x_points + (5*np.random.random(20))\n",
    "y_points = y_points.reshape(20,1)"
   ]
  },
  {
   "cell_type": "code",
   "execution_count": 4,
   "metadata": {},
   "outputs": [
    {
     "data": {
      "text/plain": [
       "(20, 2)"
      ]
     },
     "execution_count": 4,
     "metadata": {},
     "output_type": "execute_result"
    }
   ],
   "source": [
    "# Constructing input matrix: \n",
    "# y = theta0*x0 + theta1*x1\n",
    "# x0 = vector of ones , x1 = vector of input data\n",
    "x0 = np.ones_like(x_points)\n",
    "\n",
    "x_matrix = np.array([x0, x_points]).T\n",
    "x_matrix.shape"
   ]
  },
  {
   "cell_type": "code",
   "execution_count": 5,
   "metadata": {},
   "outputs": [
    {
     "data": {
      "text/plain": [
       "Text(0.5, 1.0, 'Data Points')"
      ]
     },
     "execution_count": 5,
     "metadata": {},
     "output_type": "execute_result"
    },
    {
     "data": {
      "image/png": "[encoded data removed]",
      "text/plain": [
       "<Figure size 432x288 with 1 Axes>"
      ]
     },
     "metadata": {
      "needs_background": "light"
     },
     "output_type": "display_data"
    }
   ],
   "source": [
    "# Exploring Data Points:\n",
    "plt.scatter(x_points, y_points);\n",
    "plt.xlabel(\"x\")\n",
    "plt.ylabel(\"y\")\n",
    "plt.title(\"Data Points\")"
   ]
  },
  {
   "cell_type": "markdown",
   "metadata": {},
   "source": [
    "#### Use your code from practical session 1 and create a function to perform GD for single variable linear regression.\n",
    "#### The function should take the following input parameters:\n",
    "##### Input data (X), Target Labels (y), Learning Rate (alpha), Maximum number of iterations\n",
    "#### The function should return the following:\n",
    "##### All Theta_0 and Theta_1 values till converge, and equivellant Losses, all hypothesis output, and optimum values of Theta_0 and Theta_1\n",
    "#### Note: you can choose any suitable stop criteria."
   ]
  },
  {
   "cell_type": "code",
   "execution_count": 6,
   "metadata": {},
   "outputs": [],
   "source": [
    "# return the MSE between actual and predicted output\n",
    "def loss(predicted, actual=y_points):\n",
    "    diff = predicted - actual\n",
    "    return (1/(2*len(actual))) * (norm(diff, 2))**2"
   ]
  },
  {
   "cell_type": "code",
   "execution_count": 7,
   "metadata": {},
   "outputs": [],
   "source": [
    "# return jacobian vector\n",
    "def jacob_single(hx, y=y_points, x=x_matrix):\n",
    "    return ((1 / hx.shape[0]) * ((hx - y).T @ x)).T"
   ]
  },
  {
   "cell_type": "markdown",
   "metadata": {},
   "source": [
    "# Batch Gradient descent:"
   ]
  },
  {
   "cell_type": "code",
   "execution_count": 28,
   "metadata": {},
   "outputs": [],
   "source": [
    "def batch_gd(x, y, alpha, n=0):\n",
    "    \"\"\"\n",
    "    Description:\n",
    "    Apply batch gradient descent on to optimize parameters of linear regression model\n",
    "    \n",
    "    Args:\n",
    "    x : input matrix\n",
    "    y : actual output\n",
    "    alpha : learning rate\n",
    "    \n",
    "    Returns:\n",
    "    n(int) : Number of iterations\n",
    "    p(array) : vector of final updated parameters\n",
    "    mean_sq_error(list) : list of MSE after each epoch\n",
    "    parameters(list) : list of updated parameters after each epoch\n",
    "    Hx(list) :list contains predicted output after each epoch\n",
    "    \"\"\"\n",
    "    # initial parameters:\n",
    "    p = np.array([[0],[0]])\n",
    "    # Predicted output\n",
    "    hx = x @ p\n",
    "    # List to contain MSE after each Epoch\n",
    "    mean_sq_error = []\n",
    "    # Parameters:\n",
    "    parameters = []\n",
    "    # Predicted output list contains hx after each epoch\n",
    "    Hx = []\n",
    "    # jacobian norm change over iterations:\n",
    "    jacob_norm = []\n",
    "    # hold Number of iterations\n",
    "    n = 0\n",
    "    while(norm(jacob_single(hx), 2)) > 0.01:\n",
    "        \n",
    "        # Updating parameters\n",
    "        updated_p = p -  alpha * jacob_single(hx)\n",
    "\n",
    "        p = updated_p\n",
    "        \n",
    "        # Updating predicted outputs\n",
    "        hx = x @ p\n",
    "        \n",
    "        Hx.append(hx)\n",
    "        parameters.append(updated_p)\n",
    "        mean_sq_error.append(loss(hx))\n",
    "        jacob_norm.append(norm(jacob_single(hx), 2))\n",
    "        # counter of iterations\n",
    "        n += 1\n",
    "    return n, p, mean_sq_error, parameters, Hx, jacob_norm"
   ]
  },
  {
   "cell_type": "markdown",
   "metadata": {},
   "source": [
    "#### Try your function with any input parameterss of your choice."
   ]
  },
  {
   "cell_type": "code",
   "execution_count": 9,
   "metadata": {
    "scrolled": true
   },
   "outputs": [],
   "source": [
    "# Calling batch gd function:\n",
    "n, p, mse, parameters, Hx, jacob_norm = batch_gd(x_matrix, y_points, 0.01)"
   ]
  },
  {
   "cell_type": "code",
   "execution_count": 10,
   "metadata": {},
   "outputs": [
    {
     "name": "stdout",
     "output_type": "stream",
     "text": [
      "Number of Iterations: 1279\n"
     ]
    }
   ],
   "source": [
    "print(\"Number of Iterations:\", n)"
   ]
  },
  {
   "cell_type": "markdown",
   "metadata": {},
   "source": [
    "#### Calculate r2 score"
   ]
  },
  {
   "cell_type": "code",
   "execution_count": 11,
   "metadata": {},
   "outputs": [
    {
     "data": {
      "text/plain": [
       "0.999997192160141"
      ]
     },
     "execution_count": 11,
     "metadata": {},
     "output_type": "execute_result"
    }
   ],
   "source": [
    "from sklearn.metrics import r2_score\n",
    "\n",
    "y_predicted = x_matrix @ p\n",
    "\n",
    "r2_score(y_points, y_predicted)"
   ]
  },
  {
   "cell_type": "markdown",
   "metadata": {},
   "source": [
    "#### Plot loss vs. epochs"
   ]
  },
  {
   "cell_type": "code",
   "execution_count": 12,
   "metadata": {},
   "outputs": [
    {
     "data": {
      "text/plain": [
       "Text(0, 0.5, 'MSE')"
      ]
     },
     "execution_count": 12,
     "metadata": {},
     "output_type": "execute_result"
    },
    {
     "data": {
      "image/png": "[encoded data removed]",
      "text/plain": [
       "<Figure size 432x288 with 1 Axes>"
      ]
     },
     "metadata": {
      "needs_background": "light"
     },
     "output_type": "display_data"
    }
   ],
   "source": [
    "# MSE vs epochs\n",
    "plt.plot(mse)\n",
    "plt.title(\"Mean Square Error change\")\n",
    "plt.xlabel(\"Iterations\")\n",
    "plt.ylabel(\"MSE\")"
   ]
  },
  {
   "cell_type": "markdown",
   "metadata": {},
   "source": [
    "#### Plot Theta_0 vs. loss and Theta_1 vs. loss"
   ]
  },
  {
   "cell_type": "code",
   "execution_count": 13,
   "metadata": {},
   "outputs": [],
   "source": [
    "theta0 = []\n",
    "theta1 = []\n",
    "for p in parameters:\n",
    "    theta0.append(p[0])\n",
    "    theta1.append(p[1])"
   ]
  },
  {
   "cell_type": "code",
   "execution_count": 14,
   "metadata": {},
   "outputs": [
    {
     "data": {
      "text/plain": [
       "Text(0, 0.5, 'theta0')"
      ]
     },
     "execution_count": 14,
     "metadata": {},
     "output_type": "execute_result"
    },
    {
     "data": {
      "image/png": "[encoded data removed]",
      "text/plain": [
       "<Figure size 432x288 with 1 Axes>"
      ]
     },
     "metadata": {
      "needs_background": "light"
     },
     "output_type": "display_data"
    }
   ],
   "source": [
    "plt.plot(theta0)\n",
    "plt.title(\"theta 0 change over epochs\")\n",
    "plt.xlabel(\"Iterations\")\n",
    "plt.ylabel(\"theta0\")"
   ]
  },
  {
   "cell_type": "code",
   "execution_count": 15,
   "metadata": {},
   "outputs": [
    {
     "data": {
      "text/plain": [
       "Text(0, 0.5, 'theta1')"
      ]
     },
     "execution_count": 15,
     "metadata": {},
     "output_type": "execute_result"
    },
    {
     "data": {
      "image/png": "[encoded data removed]",
      "text/plain": [
       "<Figure size 432x288 with 1 Axes>"
      ]
     },
     "metadata": {
      "needs_background": "light"
     },
     "output_type": "display_data"
    }
   ],
   "source": [
    "plt.plot(theta1)\n",
    "plt.title(\"theta 1 change over epochs\")\n",
    "plt.xlabel(\"Iterations\")\n",
    "plt.ylabel(\"theta1\")"
   ]
  },
  {
   "cell_type": "markdown",
   "metadata": {},
   "source": [
    "#### Plot all regression lines till converge"
   ]
  },
  {
   "cell_type": "code",
   "execution_count": 16,
   "metadata": {},
   "outputs": [
    {
     "data": {
      "text/plain": [
       "Text(0.5, 1.0, 'Data Points vs Predicted Regression line')"
      ]
     },
     "execution_count": 16,
     "metadata": {},
     "output_type": "execute_result"
    },
    {
     "data": {
      "image/png": "[encoded data removed]",
      "text/plain": [
       "<Figure size 432x288 with 1 Axes>"
      ]
     },
     "metadata": {
      "needs_background": "light"
     },
     "output_type": "display_data"
    }
   ],
   "source": [
    "plt.scatter(x_points, y_points);\n",
    "\n",
    "for hx in Hx:\n",
    "    plt.plot(x_points, hx);\n",
    "    \n",
    "plt.xlabel(\"x\")\n",
    "plt.ylabel(\"y\")\n",
    "plt.title(\"Data Points vs Predicted Regression line\")"
   ]
  },
  {
   "cell_type": "markdown",
   "metadata": {},
   "source": [
    "#### Plot the best regression line"
   ]
  },
  {
   "cell_type": "code",
   "execution_count": 16,
   "metadata": {},
   "outputs": [
    {
     "data": {
      "text/plain": [
       "Text(0.5, 1.0, 'Data Points vs Predicted Regression line')"
      ]
     },
     "execution_count": 16,
     "metadata": {},
     "output_type": "execute_result"
    },
    {
     "data": {
      "image/png": "[encoded data removed]",
      "text/plain": [
       "<Figure size 432x288 with 1 Axes>"
      ]
     },
     "metadata": {
      "needs_background": "light"
     },
     "output_type": "display_data"
    }
   ],
   "source": [
    "# Plotting regression line vs actual data\n",
    "plt.scatter(x_points, y_points);\n",
    "plt.plot(x_points, y_predicted)\n",
    "plt.xlabel(\"x\")\n",
    "plt.ylabel(\"y\")\n",
    "plt.title(\"Data Points vs Predicted Regression line\")"
   ]
  },
  {
   "cell_type": "markdown",
   "metadata": {},
   "source": [
    "#### Try different learning rate and number of iterations then plot loss vs. epochs, loss vs. Theat_0 and Theta_1\n",
    "#### all regression lines till converge, and the best regression line\n",
    "#### and see the difference in output."
   ]
  },
  {
   "cell_type": "code",
   "execution_count": 56,
   "metadata": {},
   "outputs": [],
   "source": [
    "# Calling batch gd function:\n",
    "# alpha = 0.015 instead of 0.001\n",
    "n, p, mse, parameters, Hx, jacob_norm = batch_gd(x_matrix, y_points, 0.015)"
   ]
  },
  {
   "cell_type": "code",
   "execution_count": 57,
   "metadata": {},
   "outputs": [
    {
     "name": "stdout",
     "output_type": "stream",
     "text": [
      "Number of Iterations: 853\n"
     ]
    }
   ],
   "source": [
    "# number of iterations decreases from 12,000 to 850\n",
    "print(\"Number of Iterations:\", n)"
   ]
  },
  {
   "cell_type": "code",
   "execution_count": 58,
   "metadata": {},
   "outputs": [
    {
     "data": {
      "text/plain": [
       "0.9999972125361153"
      ]
     },
     "execution_count": 58,
     "metadata": {},
     "output_type": "execute_result"
    }
   ],
   "source": [
    "from sklearn.metrics import r2_score\n",
    "\n",
    "y_predicted = x_matrix @ p\n",
    "\n",
    "r2_score(y_points, y_predicted)"
   ]
  },
  {
   "cell_type": "code",
   "execution_count": 59,
   "metadata": {},
   "outputs": [
    {
     "data": {
      "text/plain": [
       "Text(0, 0.5, 'MSE')"
      ]
     },
     "execution_count": 59,
     "metadata": {},
     "output_type": "execute_result"
    },
    {
     "data": {
      "image/png": "[encoded data removed]",
      "text/plain": [
       "<Figure size 432x288 with 1 Axes>"
      ]
     },
     "metadata": {
      "needs_background": "light"
     },
     "output_type": "display_data"
    }
   ],
   "source": [
    "# MSE vs epochs\n",
    "plt.plot(mse)\n",
    "plt.title(\"Mean Square Error change\")\n",
    "plt.xlabel(\"Iterations\")\n",
    "plt.ylabel(\"MSE\")"
   ]
  },
  {
   "cell_type": "code",
   "execution_count": 60,
   "metadata": {},
   "outputs": [],
   "source": [
    "theta0 = []\n",
    "theta1 = []\n",
    "for p in parameters:\n",
    "    theta0.append(p[0])\n",
    "    theta1.append(p[1])"
   ]
  },
  {
   "cell_type": "code",
   "execution_count": 61,
   "metadata": {},
   "outputs": [
    {
     "data": {
      "text/plain": [
       "853"
      ]
     },
     "execution_count": 61,
     "metadata": {},
     "output_type": "execute_result"
    }
   ],
   "source": [
    "len(theta0)"
   ]
  },
  {
   "cell_type": "code",
   "execution_count": 62,
   "metadata": {
    "scrolled": true
   },
   "outputs": [
    {
     "data": {
      "text/plain": [
       "Text(0, 0.5, 'theta0')"
      ]
     },
     "execution_count": 62,
     "metadata": {},
     "output_type": "execute_result"
    },
    {
     "data": {
      "image/png": "[encoded data removed]",
      "text/plain": [
       "<Figure size 432x288 with 1 Axes>"
      ]
     },
     "metadata": {
      "needs_background": "light"
     },
     "output_type": "display_data"
    }
   ],
   "source": [
    "plt.plot(theta0)\n",
    "plt.title(\"theta 0 change over epochs\")\n",
    "plt.xlabel(\"Iterations\")\n",
    "plt.ylabel(\"theta0\")"
   ]
  },
  {
   "cell_type": "code",
   "execution_count": 67,
   "metadata": {},
   "outputs": [
    {
     "data": {
      "text/plain": [
       "Text(0, 0.5, 'mse')"
      ]
     },
     "execution_count": 67,
     "metadata": {},
     "output_type": "execute_result"
    },
    {
     "data": {
      "image/png": "[encoded data removed]",
      "text/plain": [
       "<Figure size 432x288 with 1 Axes>"
      ]
     },
     "metadata": {
      "needs_background": "light"
     },
     "output_type": "display_data"
    }
   ],
   "source": [
    "plt.plot(theta0, mse)\n",
    "plt.title(\"theta 0 vs mse\")\n",
    "plt.xlabel(\"theta 0\")\n",
    "plt.ylabel(\"mse\")"
   ]
  },
  {
   "cell_type": "code",
   "execution_count": null,
   "metadata": {},
   "outputs": [],
   "source": [
    "plt.plot(theta1, mse)\n",
    "plt.title(\"theta1 vs mse\")\n",
    "plt.xlabel(\"theta \")\n",
    "plt.ylabel(\"mse\")"
   ]
  },
  {
   "cell_type": "code",
   "execution_count": 64,
   "metadata": {},
   "outputs": [
    {
     "data": {
      "text/plain": [
       "Text(0, 0.5, 'theta1')"
      ]
     },
     "execution_count": 64,
     "metadata": {},
     "output_type": "execute_result"
    },
    {
     "data": {
      "image/png": "[encoded data removed]",
      "text/plain": [
       "<Figure size 432x288 with 1 Axes>"
      ]
     },
     "metadata": {
      "needs_background": "light"
     },
     "output_type": "display_data"
    }
   ],
   "source": [
    "plt.plot(theta1)\n",
    "plt.title(\"theta 1 change over epochs\")\n",
    "plt.xlabel(\"Iterations\")\n",
    "plt.ylabel(\"theta1\")"
   ]
  },
  {
   "cell_type": "code",
   "execution_count": 25,
   "metadata": {},
   "outputs": [
    {
     "data": {
      "text/plain": [
       "Text(0.5, 1.0, 'Data Points vs Predicted Regression line')"
      ]
     },
     "execution_count": 25,
     "metadata": {},
     "output_type": "execute_result"
    },
    {
     "data": {
      "image/png": "[encoded data removed]",
      "text/plain": [
       "<Figure size 432x288 with 1 Axes>"
      ]
     },
     "metadata": {
      "needs_background": "light"
     },
     "output_type": "display_data"
    }
   ],
   "source": [
    "plt.scatter(x_points, y_points);\n",
    "\n",
    "for hx in Hx:\n",
    "    plt.plot(x_points, hx);\n",
    "    \n",
    "plt.xlabel(\"x\")\n",
    "plt.ylabel(\"y\")\n",
    "plt.title(\"Data Points vs Predicted Regression line\")"
   ]
  },
  {
   "cell_type": "code",
   "execution_count": 26,
   "metadata": {},
   "outputs": [
    {
     "data": {
      "text/plain": [
       "Text(0.5, 1.0, 'Data Points vs Predicted Regression line')"
      ]
     },
     "execution_count": 26,
     "metadata": {},
     "output_type": "execute_result"
    },
    {
     "data": {
      "image/png": "[encoded data removed]",
      "text/plain": [
       "<Figure size 432x288 with 1 Axes>"
      ]
     },
     "metadata": {
      "needs_background": "light"
     },
     "output_type": "display_data"
    }
   ],
   "source": [
    "# Plotting regression line vs actual data\n",
    "plt.scatter(x_points, y_points);\n",
    "plt.plot(x_points, y_predicted)\n",
    "plt.xlabel(\"x\")\n",
    "plt.ylabel(\"y\")\n",
    "plt.title(\"Data Points vs Predicted Regression line\")"
   ]
  },
  {
   "cell_type": "markdown",
   "metadata": {},
   "source": [
    "# Mini-Batch Gradient Descent:"
   ]
  },
  {
   "cell_type": "markdown",
   "metadata": {},
   "source": [
    "#### Update the implementation of the Batch GD to be Mini-Batch and rpeat the above plots and evaluations\n",
    "#### Change batch size and see the effect"
   ]
  },
  {
   "cell_type": "code",
   "execution_count": 27,
   "metadata": {},
   "outputs": [],
   "source": [
    "# input and actual output\n",
    "#x_points = np.arange(20)\n",
    "#y_points = (-2 * x_points + 1).reshape(20,1)"
   ]
  },
  {
   "cell_type": "code",
   "execution_count": 28,
   "metadata": {},
   "outputs": [],
   "source": [
    "# Divide data into mini-batches\n",
    "x_batches = np.split(x_matrix, 4)\n",
    "y_batches = np.split(y_points, 4)"
   ]
  },
  {
   "cell_type": "code",
   "execution_count": 29,
   "metadata": {},
   "outputs": [
    {
     "data": {
      "text/plain": [
       "(array([[ 1,  0],\n",
       "        [ 1,  1],\n",
       "        [ 1,  2],\n",
       "        [ 1,  3],\n",
       "        [ 1,  4],\n",
       "        [ 1,  5],\n",
       "        [ 1,  6],\n",
       "        [ 1,  7],\n",
       "        [ 1,  8],\n",
       "        [ 1,  9],\n",
       "        [ 1, 10],\n",
       "        [ 1, 11],\n",
       "        [ 1, 12],\n",
       "        [ 1, 13],\n",
       "        [ 1, 14],\n",
       "        [ 1, 15],\n",
       "        [ 1, 16],\n",
       "        [ 1, 17],\n",
       "        [ 1, 18],\n",
       "        [ 1, 19]]),\n",
       " array([[  1],\n",
       "        [ -1],\n",
       "        [ -3],\n",
       "        [ -5],\n",
       "        [ -7],\n",
       "        [ -9],\n",
       "        [-11],\n",
       "        [-13],\n",
       "        [-15],\n",
       "        [-17],\n",
       "        [-19],\n",
       "        [-21],\n",
       "        [-23],\n",
       "        [-25],\n",
       "        [-27],\n",
       "        [-29],\n",
       "        [-31],\n",
       "        [-33],\n",
       "        [-35],\n",
       "        [-37]]))"
      ]
     },
     "execution_count": 29,
     "metadata": {},
     "output_type": "execute_result"
    }
   ],
   "source": [
    "x_matrix , y_points"
   ]
  },
  {
   "cell_type": "code",
   "execution_count": 30,
   "metadata": {},
   "outputs": [
    {
     "data": {
      "text/plain": [
       "(array([[1, 0],\n",
       "        [1, 1],\n",
       "        [1, 2],\n",
       "        [1, 3],\n",
       "        [1, 4]]),\n",
       " array([[ 1],\n",
       "        [-1],\n",
       "        [-3],\n",
       "        [-5],\n",
       "        [-7]]))"
      ]
     },
     "execution_count": 30,
     "metadata": {},
     "output_type": "execute_result"
    }
   ],
   "source": [
    "x_batches[0],y_batches[0]"
   ]
  },
  {
   "cell_type": "code",
   "execution_count": 31,
   "metadata": {},
   "outputs": [],
   "source": [
    "# Constructing input matrix:\n",
    "#x0 = np.ones_like(x_points)\n",
    "#x_matrix = np.array([x0, x_points]).T\n",
    "#x_matrix.shape"
   ]
  },
  {
   "cell_type": "code",
   "execution_count": 32,
   "metadata": {},
   "outputs": [],
   "source": [
    "def mini_batch(x, y, alpha):\n",
    "    \"\"\"\n",
    "    Description:\n",
    "    Apply Mini-batch gradient descent on to optimize parameters of linear regression model\n",
    "    \n",
    "    Args:\n",
    "    x : input matrix\n",
    "    y : actual output\n",
    "    alpha : learning rate\n",
    "    \n",
    "    Returns:\n",
    "    n(int) : Number of iterations\n",
    "    p(array) : vector of final updated parameters\n",
    "    mean_sq_error(list) : list of MSE after each epoch\n",
    "    parameters(list) : list of updated parameters after each epoch\n",
    "    Hx(list) :list contains predicted output after each epoch\n",
    "    \"\"\"\n",
    "    # initial parameters:\n",
    "    p = np.array([[0],[0]])\n",
    "    # Predicted output\n",
    "    hx = x @ p\n",
    "    # List to contain MSE after each Epoch\n",
    "    mean_sq_error = []\n",
    "    # Parameters:\n",
    "    parameters = []\n",
    "    # Predicted output list contains hx after each epoch\n",
    "    Hx = []\n",
    "    # hold Number of iterations\n",
    "    n = 0\n",
    "    while(norm(jacob_single(hx, y, x), 2)) > 0.01:\n",
    "        for i in range(len(x_batches)):\n",
    "            hx = x_batches[i] @ p\n",
    "            updated_p = p -  alpha * jacob_single(hx, y_batches[i], x_batches[i])\n",
    "\n",
    "            p = updated_p\n",
    "        \n",
    "        hx = x_matrix @ updated_p\n",
    "        print(norm(jacob_single(hx, y, x), 2))\n",
    "        Hx.append(hx)\n",
    "        parameters.append(updated_p)\n",
    "        mean_sq_error.append(loss(hx))\n",
    "    \n",
    "        # counter of iterations\n",
    "        n += 1\n",
    "        \n",
    "    return n, p, mean_sq_error, parameters, Hx"
   ]
  },
  {
   "cell_type": "code",
   "execution_count": 33,
   "metadata": {},
   "outputs": [
    {
     "name": "stdout",
     "output_type": "stream",
     "text": [
      "91.60382863701206\n",
      "31.86179645854152\n",
      "7.558518352827829\n",
      "2.3253265416190665\n",
      "6.260251613287659\n",
      "7.802899757916808\n",
      "8.365723077796009\n",
      "8.529372652471174\n",
      "8.530950334717398\n",
      "8.467218743680768\n",
      "8.377656227353649\n",
      "8.278362831495633\n",
      "8.175898308744413\n",
      "8.072929340300337\n",
      "7.970534066393742\n",
      "7.869142511616142\n",
      "7.768920347781963\n",
      "7.669925496201567\n",
      "7.572172031447789\n",
      "7.4756562572571275\n",
      "7.380367345876129\n",
      "7.286291678168322\n",
      "7.193414613185455\n",
      "7.1017212087886135\n",
      "7.011196514239035\n",
      "6.921825688139562\n",
      "6.833594045125093\n",
      "6.746487073496139\n",
      "6.660490441011221\n",
      "6.575589995868123\n",
      "6.491771765736291\n",
      "6.4090219560139685\n",
      "6.32732694778402\n",
      "6.246673295665714\n",
      "6.167047725639319\n",
      "6.0884371328772025\n",
      "6.01082857959287\n",
      "5.9342092929143835\n",
      "5.85856666278359\n",
      "5.783888239880745\n",
      "5.710161733575948\n",
      "5.637375009906218\n",
      "5.565516089579086\n",
      "5.494573146000287\n",
      "5.424534503327642\n",
      "5.35538863454984\n",
      "5.28712415958853\n",
      "5.219729843426035\n",
      "5.153194594256196\n",
      "5.087507461658458\n",
      "5.022657634795937\n",
      "4.958634440636361\n",
      "4.895427342195084\n",
      "4.833025936801323\n",
      "4.7714199543855385\n",
      "4.710599255789527\n",
      "4.650553831097978\n",
      "4.591273797990681\n",
      "4.532749400115665\n",
      "4.4749710054845915\n",
      "4.417929104886505\n",
      "4.361614310323159\n",
      "4.306017353464238\n",
      "4.251129084121493\n",
      "4.196940468742953\n",
      "4.1434425889263835\n",
      "4.090626639951065\n",
      "4.0384839293290815\n",
      "3.9870058753749364\n",
      "3.9361840057921795\n",
      "3.8860099562799957\n",
      "3.836475469156538\n",
      "3.787572391999016\n",
      "3.7392926763030276\n",
      "3.691628376157178\n",
      "3.6445716469359213\n",
      "3.598114744007891\n",
      "3.5522500214619326\n",
      "3.5069699308478106\n",
      "3.462267019934912\n",
      "3.4181339314850185\n",
      "3.374563402041987\n",
      "3.3315482607360702\n",
      "3.2890814281031693\n",
      "3.2471559149208487\n",
      "3.2057648210571466\n",
      "3.1649013343351298\n",
      "3.1245587294121258\n",
      "3.084730366672382\n",
      "3.045409691134638\n",
      "3.0065902313728503\n",
      "2.9682655984519166\n",
      "2.9304294848752517\n",
      "2.893075663547328\n",
      "2.8561979867488407\n",
      "2.8197903851244006\n",
      "2.7838468666840535\n",
      "2.7483615158169457\n",
      "2.7133284923178658\n",
      "2.678742030425804\n",
      "2.644596437875497\n",
      "2.6108860949601205\n",
      "2.577605453606329\n",
      "2.544749036461809\n",
      "2.512311435993069\n",
      "2.4802873135959165\n",
      "2.448671398716572\n",
      "2.4174584879844017\n",
      "2.3866434443555327\n",
      "2.3562211962674877\n",
      "2.3261867368038933\n",
      "2.296535122871492\n",
      "2.267261474385599\n",
      "2.238360973467558\n",
      "2.209828863651848\n",
      "2.1816604491022917\n",
      "2.15385109384083\n",
      "2.126396220982976\n",
      "2.099291311985679\n",
      "2.0725319059026917\n",
      "2.046113598651528\n",
      "2.020032042287626\n",
      "1.9942829442888852\n",
      "1.968862066850116\n",
      "1.9437652261843572\n",
      "1.9189882918349195\n",
      "1.8945271859959218\n",
      "1.8703778828402746\n",
      "1.8465364078579733\n",
      "1.822998837201333\n",
      "1.7997612970397683\n",
      "1.7768199629215398\n",
      "1.7541710591449997\n",
      "1.7318108581369804\n",
      "1.7097356798388876\n",
      "1.6879418911017232\n",
      "1.6664259050875967\n",
      "1.645184180679596\n",
      "1.6242132218991203\n",
      "1.6035095773302654\n",
      "1.5830698395517289\n",
      "1.5628906445766608\n",
      "1.5429686712980684\n",
      "1.5233006409430363\n",
      "1.5038833165323944\n",
      "1.4847135023485378\n",
      "1.4657880434094392\n",
      "1.447103824949145\n",
      "1.428657771905078\n",
      "1.4104468484122377\n",
      "1.3924680573033206\n",
      "1.3747184396156213\n",
      "1.3571950741040346\n",
      "1.3398950767599835\n",
      "1.3228156003373488\n",
      "1.3059538338829864\n",
      "1.2893070022751327\n",
      "1.2728723657660899\n",
      "1.2566472195308942\n",
      "1.2406288932231992\n",
      "1.2248147505349736\n",
      "1.209202188762917\n",
      "1.193788638380071\n",
      "1.1785715626130873\n",
      "1.1635484570242738\n",
      "1.1487168490998299\n",
      "1.1340742978428213\n",
      "1.1196183933711719\n",
      "1.1053467565216581\n",
      "1.0912570384574922\n",
      "1.077346920282796\n",
      "1.0636141126599368\n",
      "1.0500563554331857\n",
      "1.0366714172569087\n",
      "1.0234570952280482\n",
      "1.0104112145238953\n",
      "0.9975316280434692\n",
      "0.9848162160552895\n",
      "0.9722628858471225\n",
      "0.9598695713827066\n",
      "0.947634232961348\n",
      "0.9355548568818772\n",
      "0.9236294551116325\n",
      "0.9118560649594231\n",
      "0.9002327487516115\n",
      "0.8887575935145063\n",
      "0.8774287106585232\n",
      "0.8662442356676289\n",
      "0.8552023277929053\n",
      "0.844301169748923\n",
      "0.8335389674149503\n",
      "0.8229139495398272\n",
      "0.8124243674501976\n",
      "0.8020684947630453\n",
      "0.7918446271011313\n",
      "0.7817510818127887\n",
      "0.771786197694742\n",
      "0.7619483347190538\n",
      "0.752235873763088\n",
      "0.7426472163427369\n",
      "0.7331807843496132\n",
      "0.7238350197916168\n",
      "0.7146083845357314\n",
      "0.7054993600554926\n",
      "0.6965064471809757\n",
      "0.6876281658519717\n",
      "0.6788630548743444\n",
      "0.6702096716795206\n",
      "0.6616665920874513\n",
      "0.6532324100718746\n",
      "0.6449057375287335\n",
      "0.6366852040481302\n",
      "0.6285694566885602\n",
      "0.6205571597543718\n",
      "0.6126469945758498\n",
      "0.6048376592922585\n",
      "0.5971278686373455\n",
      "0.5895163537279722\n",
      "0.5820018618555169\n",
      "0.5745831562792642\n",
      "0.5672590160232343\n",
      "0.5600282356749586\n",
      "0.5528896251873402\n",
      "0.5458420096826756\n",
      "0.5388842292589093\n",
      "0.5320151387996992\n",
      "0.5252336077849005\n",
      "0.5185385201051164\n",
      "0.5119287738778473\n",
      "0.5054032812664191\n",
      "0.49896096830019515\n",
      "0.49260077469865676\n",
      "0.48632165369644326\n",
      "0.4801225718711523\n",
      "0.4740025089733059\n",
      "0.46796045775847767\n",
      "0.4619954238213148\n",
      "0.4561064254322498\n",
      "0.4502924933755366\n",
      "0.4445526707899488\n",
      "0.43888601301130825\n",
      "0.4332915874166977\n",
      "0.4277684732715709\n",
      "0.42231576157764783\n",
      "0.4169325549237728\n",
      "0.4116179673375365\n",
      "0.4063711241405034\n",
      "0.4011911618031531\n",
      "0.3960772278034418\n",
      "0.39102848048657357\n",
      "0.3860440889256335\n",
      "0.38112323278596505\n",
      "0.37626510218948855\n",
      "0.37146889758133345\n",
      "0.366733829598688\n",
      "0.3620591189406924\n",
      "0.35744399623978423\n",
      "0.352887701935836\n",
      "0.3483894861504356\n",
      "0.3439486085639045\n",
      "0.33956433829342586\n",
      "0.3352359537724936\n",
      "0.330962742632506\n",
      "0.32674400158506683\n",
      "0.3225790363067341\n",
      "0.31846716132444086\n",
      "0.31440769990266765\n",
      "0.31039998393241264\n",
      "0.30644335382070836\n",
      "0.30253715838255996\n",
      "0.29868075473333355\n",
      "0.29487350818329566\n",
      "0.2911147921330654\n",
      "0.2874039879702652\n",
      "0.2837404849680622\n",
      "0.28012368018447514\n",
      "0.27655297836304477\n",
      "0.27302779183496234\n",
      "0.2695475404224735\n",
      "0.26611165134339576\n",
      "0.26271955911641004\n",
      "0.2593707054683139\n",
      "0.25606453924258177\n",
      "0.25280051630783745\n",
      "0.24957809946881762\n",
      "0.2463967583777401\n",
      "0.243255969447\n",
      "0.2401552157634707\n",
      "0.23709398700260387\n",
      "0.23407177934532444\n",
      "0.23108809539430522\n",
      "0.22814244409264986\n",
      "0.22523434064312098\n",
      "0.22236330642753896\n",
      "0.21952886892934548\n",
      "0.21673056165433485\n",
      "0.21396792405524667\n",
      "0.21124050145508333\n",
      "0.20854784497276757\n",
      "0.20588951144874812\n",
      "0.2032650633726757\n",
      "0.20067406881062227\n",
      "0.19811610133513388\n",
      "0.19559073995392093\n",
      "0.19309756904121722\n",
      "0.1906361782688809\n",
      "0.18820616253968117\n",
      "0.18580712191967816\n",
      "0.18343866157307204\n",
      "0.18110039169688805\n",
      "0.17879192745679034\n",
      "0.17651288892419742\n",
      "0.17426290101330338\n",
      "0.1720415934191212\n",
      "0.16984860055758944\n",
      "0.16768356150414993\n",
      "0.16554611993522425\n",
      "0.16343592406887023\n",
      "0.16135262660763955\n",
      "0.15929588468073408\n",
      "0.15726535978826484\n",
      "0.1552607177449023\n",
      "0.15328162862508557\n",
      "0.15132776670893736\n",
      "0.14939881042839345\n",
      "0.14749444231439293\n",
      "0.14561434894459238\n",
      "0.14375822089192988\n",
      "0.1419257526734419\n",
      "0.1401166427000702\n",
      "0.13833059322740318\n",
      "0.13656731030583705\n",
      "0.1348265037330741\n",
      "0.1331078870058505\n",
      "0.13141117727284687\n",
      "0.12973609528847\n",
      "0.12808236536657985\n",
      "0.12644971533493507\n",
      "0.12483787649084797\n",
      "0.12324658355665866\n",
      "0.12167557463634761\n",
      "0.1201245911718334\n",
      "0.11859337790127675\n",
      "0.11708168281642799\n",
      "0.11558925712139993\n",
      "0.11411585519164186\n",
      "0.1126612345337367\n",
      "0.11122515574488405\n",
      "0.10980738247437011\n",
      "0.10840768138390564\n",
      "0.10702582210963991\n",
      "0.10566157722438012\n",
      "0.10431472219944253\n",
      "0.1029850353685845\n",
      "0.1016722978908905\n",
      "0.10037629371503515\n",
      "0.09909680954368069\n",
      "0.09783363479850292\n",
      "0.09658656158530789\n",
      "0.09535538465953071\n",
      "0.09413990139353351\n",
      "0.09293991174195128\n",
      "0.09175521820970196\n",
      "0.09058562581900237\n",
      "0.08943094207751343\n",
      "0.08829097694659266\n",
      "0.08716554280978707\n",
      "0.08605445444230876\n",
      "0.08495752898066261\n",
      "0.08387458589181451\n",
      "0.08280544694428976\n",
      "0.08174993617845344\n",
      "0.08070787987733592\n",
      "0.07967910653870863\n",
      "0.07866344684620478\n",
      "0.07766073364195525\n",
      "0.07667080189864135\n",
      "0.07569348869256667\n",
      "0.07472863317678606\n",
      "0.07377607655449576\n",
      "0.07283566205347902\n",
      "0.07190723489945637\n",
      "0.07099064229132152\n",
      "0.07008573337546986\n",
      "0.0691923592213738\n",
      "0.0683103727968547\n",
      "0.06743962894390741\n",
      "0.06657998435499474\n",
      "0.06573129754913544\n",
      "0.06489342884859334\n",
      "0.06406624035664153\n",
      "0.06324959593374041\n",
      "0.06244336117606876\n",
      "0.061647403392849964\n",
      "0.060861591584900745\n",
      "0.06008579642260842\n",
      "0.059319890225151016\n",
      "0.0585637469388867\n",
      "0.05781724211736275\n",
      "0.05708025290034428\n",
      "0.05635265799354534\n",
      "0.05563433764870076\n",
      "0.054925173644236706\n",
      "0.054225049265445566\n",
      "0.053533849285292784\n",
      "0.05285145994559852\n",
      "0.05217776893825381\n",
      "0.051512665386557896\n",
      "0.05085603982742781\n",
      "0.05020778419297399\n",
      "0.04956779179263633\n",
      "0.048935957296056654\n",
      "0.04831217671552274\n",
      "0.04769634738872655\n",
      "0.04708836796202524\n",
      "0.046488138373569556\n",
      "0.04589555983735527\n",
      "0.04531053482635622\n",
      "0.04473296705648137\n",
      "0.0441627614714102\n",
      "0.04359982422618288\n",
      "0.043044062672305636\n",
      "0.04249538534202852\n",
      "0.04195370193367948\n",
      "0.04141892329662018\n",
      "0.040890961416505556\n",
      "0.040369729401041166\n",
      "0.0398551414653805\n",
      "0.03934711291832236\n",
      "0.038845560148178505\n",
      "0.03835040060908673\n",
      "0.0378615528072674\n",
      "0.03737893628762788\n",
      "0.03690247162113562\n",
      "0.036432080390619494\n",
      "0.03596768517869297\n",
      "0.035509209555023784\n",
      "0.03505657806320962\n",
      "0.03460971620899454\n",
      "0.034168550447446044\n",
      "0.03373300817110668\n",
      "0.03330301769818954\n",
      "0.03287850826051531\n",
      "0.03245940999197709\n",
      "0.03204565391713185\n",
      "0.03163717193965837\n",
      "0.031233896831416627\n",
      "0.030835762220865946\n",
      "0.030442702582876822\n",
      "0.030054653227345452\n",
      "0.029671550288900204\n",
      "0.02929333071604908\n",
      "0.02891993226113613\n",
      "0.028551293470127193\n",
      "0.02818735367200866\n",
      "0.027828052969398488\n",
      "0.027473332228326087\n",
      "0.02712313306862966\n",
      "0.026777397854192503\n",
      "0.02643606968364108\n",
      "0.026099092380819047\n",
      "0.025766410486053312\n",
      "0.02543796924609281\n",
      "0.025113714606035394\n",
      "0.02479359319948878\n",
      "0.024477552340908027\n",
      "0.024165540015939367\n",
      "0.023857504873385033\n",
      "0.0235533962165941\n",
      "0.023253163995286482\n",
      "0.022956758796829877\n",
      "0.022664131838576265\n",
      "0.022375234959922167\n",
      "0.022090020613890968\n",
      "0.02180844185987642\n",
      "0.021530452355276918\n",
      "0.02125600634853272\n",
      "0.02098505867097631\n",
      "0.020717564729752055\n",
      "0.020453480500774134\n",
      "0.02019276252066289\n",
      "0.01993536788025577\n",
      "0.019681254217513693\n",
      "0.01943037971013063\n",
      "0.019182703068969544\n",
      "0.01893818353115489\n",
      "0.018696780853590427\n",
      "0.018458455306080722\n",
      "0.01822316766491887\n",
      "0.017990879205999954\n",
      "0.01776155169924838\n",
      "0.017535147401748188\n",
      "0.017311629051873785\n",
      "0.017090959862674723\n",
      "0.01687310351625089\n",
      "0.016658024157637587\n",
      "0.016445686388989997\n",
      "0.016236055263429555\n",
      "0.01602909627989039\n",
      "0.015824775376979953\n",
      "0.01562305892732276\n",
      "0.015423913732048813\n",
      "0.015227307016035417\n",
      "0.015033206421412825\n",
      "0.014841580002935359\n",
      "0.014652396222690657\n",
      "0.014465623944636866\n",
      "0.014281232429646707\n",
      "0.014099191330465657\n",
      "0.013919470686639112\n",
      "0.01374204091959076\n",
      "0.013566872827700015\n",
      "0.013393937581774743\n",
      "0.013223206720070036\n",
      "0.013054652143339842\n",
      "0.012888246111070725\n",
      "0.012723961235822834\n",
      "0.012561770479370144\n",
      "0.012401647148450975\n",
      "0.01224356488990577\n",
      "0.0120874976862815\n",
      "0.011933419851706047\n",
      "0.01178130602838187\n",
      "0.011631131181136938\n",
      "0.011482870593984224\n",
      "0.011336499866184931\n",
      "0.011191994907911656\n",
      "0.011049331936374264\n",
      "0.01090848747209176\n",
      "0.010769438334798697\n",
      "0.01063216163956874\n",
      "0.010496634793255726\n",
      "0.010362835490905185\n",
      "0.010230741711685065\n",
      "0.010100331715519915\n",
      "0.009971584039439735\n"
     ]
    }
   ],
   "source": [
    "n_mini, p_mini, mse_mini, parameters_mini, Hx_mini = mini_batch(x_matrix, y_points, 0.01)"
   ]
  },
  {
   "cell_type": "code",
   "execution_count": 34,
   "metadata": {},
   "outputs": [
    {
     "name": "stdout",
     "output_type": "stream",
     "text": [
      "Number of Iterations: 536\n"
     ]
    }
   ],
   "source": [
    "print(\"Number of Iterations:\", n_mini)"
   ]
  },
  {
   "cell_type": "code",
   "execution_count": 35,
   "metadata": {},
   "outputs": [
    {
     "data": {
      "text/plain": [
       "0.9999999900555158"
      ]
     },
     "execution_count": 35,
     "metadata": {},
     "output_type": "execute_result"
    }
   ],
   "source": [
    "from sklearn.metrics import r2_score\n",
    "\n",
    "y_predicted_mini = x_matrix @ p_mini\n",
    "\n",
    "r2_score(y_points, y_predicted_mini)"
   ]
  },
  {
   "cell_type": "code",
   "execution_count": 36,
   "metadata": {},
   "outputs": [
    {
     "data": {
      "text/plain": [
       "Text(0, 0.5, 'MSE')"
      ]
     },
     "execution_count": 36,
     "metadata": {},
     "output_type": "execute_result"
    },
    {
     "data": {
      "image/png": "[encoded data removed]",
      "text/plain": [
       "<Figure size 432x288 with 1 Axes>"
      ]
     },
     "metadata": {
      "needs_background": "light"
     },
     "output_type": "display_data"
    }
   ],
   "source": [
    "# MSE vs epochs\n",
    "plt.plot(mse_mini)\n",
    "plt.title(\"Mean Square Error change\")\n",
    "plt.xlabel(\"Iterations\")\n",
    "plt.ylabel(\"MSE\")"
   ]
  },
  {
   "cell_type": "code",
   "execution_count": 37,
   "metadata": {},
   "outputs": [],
   "source": [
    "theta0_mini = []\n",
    "theta1_mini = []\n",
    "for p in parameters_mini:\n",
    "    theta0_mini.append(p[0])\n",
    "    theta1_mini.append(p[1])"
   ]
  },
  {
   "cell_type": "code",
   "execution_count": 38,
   "metadata": {},
   "outputs": [
    {
     "data": {
      "text/plain": [
       "Text(0, 0.5, 'theta0')"
      ]
     },
     "execution_count": 38,
     "metadata": {},
     "output_type": "execute_result"
    },
    {
     "data": {
      "image/png": "[encoded data removed]",
      "text/plain": [
       "<Figure size 432x288 with 1 Axes>"
      ]
     },
     "metadata": {
      "needs_background": "light"
     },
     "output_type": "display_data"
    }
   ],
   "source": [
    "plt.plot(theta0_mini)\n",
    "plt.title(\"theta 0 change over epochs\")\n",
    "plt.xlabel(\"Iterations\")\n",
    "plt.ylabel(\"theta0\")"
   ]
  },
  {
   "cell_type": "code",
   "execution_count": 39,
   "metadata": {},
   "outputs": [
    {
     "data": {
      "text/plain": [
       "Text(0, 0.5, 'theta1')"
      ]
     },
     "execution_count": 39,
     "metadata": {},
     "output_type": "execute_result"
    },
    {
     "data": {
      "image/png": "[encoded data removed]",
      "text/plain": [
       "<Figure size 432x288 with 1 Axes>"
      ]
     },
     "metadata": {
      "needs_background": "light"
     },
     "output_type": "display_data"
    }
   ],
   "source": [
    "plt.plot(theta1_mini)\n",
    "plt.title(\"theta 1 change over epochs\")\n",
    "plt.xlabel(\"Iterations\")\n",
    "plt.ylabel(\"theta1\")"
   ]
  },
  {
   "cell_type": "code",
   "execution_count": null,
   "metadata": {},
   "outputs": [
    {
     "data": {
      "text/plain": [
       "Text(0.5, 1.0, 'Data Points vs Predicted Regression lines')"
      ]
     },
     "execution_count": 40,
     "metadata": {},
     "output_type": "execute_result"
    }
   ],
   "source": [
    "plt.scatter(x_points, y_points);\n",
    "\n",
    "for hx in Hx_mini:\n",
    "    plt.plot(x_points, hx);\n",
    "    \n",
    "plt.xlabel(\"x\")\n",
    "plt.ylabel(\"y\")\n",
    "plt.title(\"Data Points vs Predicted Regression lines\")"
   ]
  },
  {
   "cell_type": "code",
   "execution_count": null,
   "metadata": {},
   "outputs": [],
   "source": [
    "# Plotting regression line vs actual data\n",
    "plt.scatter(x_points, y_points);\n",
    "plt.plot(x_points, y_predicted_mini)\n",
    "plt.xlabel(\"x\")\n",
    "plt.ylabel(\"y\")\n",
    "plt.title(\"Data Points vs Predicted Regression line\")"
   ]
  },
  {
   "cell_type": "markdown",
   "metadata": {},
   "source": [
    "## Stochastic GD"
   ]
  },
  {
   "cell_type": "markdown",
   "metadata": {},
   "source": [
    "#### Update the implementation of the Batch GD to beStochastic and rpeat the above plots and evaluations\n",
    "#### You can try different learning rate and see its effect.\n",
    "#### Compare to Batch and Mini-Batch GD"
   ]
  },
  {
   "cell_type": "code",
   "execution_count": null,
   "metadata": {},
   "outputs": [],
   "source": [
    "# input and actual output\n",
    "x_points = np.arange(20)\n",
    "y_points = (-2 * x_points + 1).reshape(20,1)"
   ]
  },
  {
   "cell_type": "code",
   "execution_count": null,
   "metadata": {},
   "outputs": [],
   "source": [
    "# Divide data into mini-batches : each batch contains 1 element\n",
    "x_batches = np.split(x_matrix, 20)\n",
    "y_batches = np.split(y_points, 20)"
   ]
  },
  {
   "cell_type": "code",
   "execution_count": null,
   "metadata": {},
   "outputs": [],
   "source": [
    "# Constructing input matrix:\n",
    "x0 = np.ones_like(x_points)\n",
    "x_matrix = np.array([x0, x_points]).T\n",
    "x_matrix.shape"
   ]
  },
  {
   "cell_type": "code",
   "execution_count": null,
   "metadata": {},
   "outputs": [],
   "source": [
    "# Calling mini-batch function implemented above with batches contains one element only(Stochastic)\n",
    "n_stoc, p_stoc, mse_stoc, parameters_stoc, Hx_stoc = mini_batch(x_matrix, y_points, 0.001)"
   ]
  },
  {
   "cell_type": "code",
   "execution_count": null,
   "metadata": {},
   "outputs": [],
   "source": [
    "print(\"Number of Iterations:\", n_stoc)"
   ]
  },
  {
   "cell_type": "code",
   "execution_count": null,
   "metadata": {},
   "outputs": [],
   "source": [
    "from sklearn.metrics import r2_score\n",
    "\n",
    "y_predicted_stoc = x_matrix @ p_stoc\n",
    "\n",
    "r2_score(y_points, y_predicted_stoc)"
   ]
  },
  {
   "cell_type": "code",
   "execution_count": null,
   "metadata": {},
   "outputs": [],
   "source": [
    "# MSE vs epochs\n",
    "plt.plot(mse_stoc)\n",
    "plt.title(\"Mean Square Error change\")\n",
    "plt.xlabel(\"Iterations\")\n",
    "plt.ylabel(\"MSE\")"
   ]
  },
  {
   "cell_type": "code",
   "execution_count": null,
   "metadata": {},
   "outputs": [],
   "source": [
    "theta0_stoc = []\n",
    "theta1_stoc = []\n",
    "for p in parameters_stoc:\n",
    "    theta0_stoc.append(p[0])\n",
    "    theta1_stoc.append(p[1])"
   ]
  },
  {
   "cell_type": "code",
   "execution_count": null,
   "metadata": {},
   "outputs": [],
   "source": [
    "plt.plot(theta0_stoc)\n",
    "plt.title(\"theta 0 change over epochs\")\n",
    "plt.xlabel(\"Iterations\")\n",
    "plt.ylabel(\"theta0\")"
   ]
  },
  {
   "cell_type": "code",
   "execution_count": null,
   "metadata": {},
   "outputs": [],
   "source": [
    "plt.plot(theta1_stoc)\n",
    "plt.title(\"theta 1 change over epochs\")\n",
    "plt.xlabel(\"Iterations\")\n",
    "plt.ylabel(\"theta1\")"
   ]
  },
  {
   "cell_type": "code",
   "execution_count": null,
   "metadata": {},
   "outputs": [],
   "source": [
    "plt.scatter(x_points, y_points);\n",
    "\n",
    "for hx in Hx_stoc:\n",
    "    plt.plot(x_points, hx);\n",
    "    \n",
    "plt.xlabel(\"x\")\n",
    "plt.ylabel(\"y\")\n",
    "plt.title(\"Data Points vs Predicted Regression lines\")"
   ]
  },
  {
   "cell_type": "code",
   "execution_count": null,
   "metadata": {},
   "outputs": [],
   "source": [
    "# Plotting regression line vs actual data (Best line)\n",
    "plt.scatter(x_points, y_points);\n",
    "plt.plot(x_points, y_predicted_stoc)\n",
    "plt.xlabel(\"x\")\n",
    "plt.ylabel(\"y\")\n",
    "plt.title(\"Data Points vs Predicted Regression line\")"
   ]
  }
 ],
 "metadata": {
  "kernelspec": {
   "display_name": "Python 3",
   "language": "python",
   "name": "python3"
  },
  "language_info": {
   "codemirror_mode": {
    "name": "ipython",
    "version": 3
   },
   "file_extension": ".py",
   "mimetype": "text/x-python",
   "name": "python",
   "nbconvert_exporter": "python",
   "pygments_lexer": "ipython3",
   "version": "3.8.5"
  }
 },
 "nbformat": 4,
 "nbformat_minor": 4
}
